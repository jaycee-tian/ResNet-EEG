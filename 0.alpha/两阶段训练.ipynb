{
 "cells": [
  {
   "attachments": {},
   "cell_type": "markdown",
   "metadata": {},
   "source": [
    "1. 训练对比学习的特征提取器\n",
    "2. 训练分类问题的监督"
   ]
  },
  {
   "cell_type": "code",
   "execution_count": null,
   "metadata": {},
   "outputs": [],
   "source": [
    "import setpath\n",
    "from torch.utils.data import DataLoader\n",
    "from prepare.eegdataset import N_Mix_GeneralEEGImageDataset, MySubset\n",
    "import numpy as np\n",
    "import matplotlib.pyplot as plt\n",
    "import torch\n",
    "import torchvision.transforms as transforms\n",
    "from run.resnet import TesNet\n",
    "import torch.nn.functional as F\n",
    "from run.start import get_device\n",
    "from prepare.show import plot_tsne\n",
    "from prepare.show import get_material_dir\n"
   ]
  },
  {
   "cell_type": "code",
   "execution_count": null,
   "metadata": {},
   "outputs": [],
   "source": [
    "data_path = '/data0/tianjunchao/dataset/CVPR2021-02785/data/img_pkl/32x32'\n",
    "train_transforms = transforms.Compose([\n",
    "    transforms.Normalize([0.512, 0.512, 0.512], [0.228, 0.228, 0.228]),\n",
    "])\n",
    "dataset = N_Mix_GeneralEEGImageDataset(path=data_path, n_channels=1, grid_size=8, n_samples=1)\n",
    "dataset = MySubset(dataset, range(len(dataset)), train_transforms)\n",
    "dataloader = DataLoader(dataset, batch_size=128, shuffle=True, num_workers=3, prefetch_factor=2)\n",
    "device = get_device()"
   ]
  },
  {
   "cell_type": "code",
   "execution_count": null,
   "metadata": {},
   "outputs": [],
   "source": [
    "model = TesNet(model_name='resnet50').to(device)\n",
    "optimizer = torch.optim.Adam(model.parameters(), lr=0.0001)"
   ]
  },
  {
   "cell_type": "code",
   "execution_count": null,
   "metadata": {},
   "outputs": [],
   "source": [
    "def nt_xent_loss(emb1, emb2, temperature=0.5):\n",
    "    batch_size = emb1.size(0)\n",
    "    emb = torch.cat([emb1, emb2], dim=0)\n",
    "    emb_norm = F.normalize(emb, dim=1)\n",
    "\n",
    "    sim_matrix = torch.mm(emb_norm, emb_norm.t().contiguous())\n",
    "    sim_matrix.fill_diagonal_(-float('inf'))  # 将对角线填充为负无穷，以避免计算相似度时取到自身\n",
    "\n",
    "    # 计算相似度矩阵中的最大值，用于数值稳定性\n",
    "    max_sim = torch.max(sim_matrix, dim=1).values.view(-1, 1)\n",
    "\n",
    "    # 计算分母中的e^(s_ij / t)，并减去最大相似度，以防止数值溢出\n",
    "    sim_matrix = torch.exp((sim_matrix - max_sim) / temperature)\n",
    "\n",
    "\n",
    "    pos_sim = torch.cat([sim_matrix[i, i + batch_size].unsqueeze(0) for i in range(batch_size)])\n",
    "    neg_sim = torch.cat([sim_matrix[i, i - batch_size].unsqueeze(0) for i in range(batch_size, 2 * batch_size)])\n",
    "\n",
    "    loss_matrix = -torch.log(pos_sim / (pos_sim + neg_sim))\n",
    "\n",
    "    # 计算损失\n",
    "    # loss_matrix = -torch.log(numerators / sums)\n",
    "    loss = loss_matrix.sum() / (2 * batch_size)\n",
    "\n",
    "    return loss"
   ]
  },
  {
   "cell_type": "code",
   "execution_count": null,
   "metadata": {},
   "outputs": [],
   "source": [
    "epochs = 100\n",
    "for epoch in range(epochs):\n",
    "    model.train()\n",
    "    for i, (x, y) in enumerate(dataloader):\n",
    "        # 清空优化器的梯度\n",
    "        optimizer.zero_grad()\n",
    "\n",
    "        dx = torch.stack(x, dim=1)\n",
    "        _,emb1 = model(dx[:, 0, :, :, :].to(device))\n",
    "        _,emb2 = model(dx[:, 1, :, :, :].to(device))\n",
    "        # emb2 = torch.ones_like(emb1).to(device)\n",
    "\n",
    "        # emb2 = torch.rand_like(emb1).to(device)\n",
    "        # emb1 = torch.zeros_like(emb2).to(device)\n",
    "        loss = nt_xent_loss(emb1, emb2)\n",
    "        \n",
    "        loss.backward()\n",
    "        optimizer.step()\n",
    "        \n",
    "        if i % (len(dataloader)//5) == 0:\n",
    "            print('epoch: {}, loss:%.3f'.format(epoch) % loss.item())\n",
    "    plot_tsne(model.feature_extractor, dataloader, device, 'resnet18', target='train epoch'+str(epoch),n_samples=1000,material_dir=get_material_dir())\n",
    "\n"
   ]
  },
  {
   "cell_type": "code",
   "execution_count": null,
   "metadata": {},
   "outputs": [],
   "source": []
  }
 ],
 "metadata": {
  "kernelspec": {
   "display_name": "tian",
   "language": "python",
   "name": "python3"
  },
  "language_info": {
   "codemirror_mode": {
    "name": "ipython",
    "version": 3
   },
   "file_extension": ".py",
   "mimetype": "text/x-python",
   "name": "python",
   "nbconvert_exporter": "python",
   "pygments_lexer": "ipython3",
   "version": "3.10.10"
  },
  "orig_nbformat": 4
 },
 "nbformat": 4,
 "nbformat_minor": 2
}
