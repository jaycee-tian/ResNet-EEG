{
 "cells": [
  {
   "cell_type": "code",
   "execution_count": null,
   "metadata": {},
   "outputs": [],
   "source": [
    "import torch.nn as nn\n",
    "import torchvision.models as models\n",
    "\n",
    "# 加载预训练的 ResNet50 模型\n",
    "resnet = models.resnet101(weights=models.ResNet101_Weights.DEFAULT)\n",
    "\n",
    "\n",
    "# 移除最后的全连接层\n",
    "backbone = nn.Sequential(*list(resnet.children())[:-1])\n",
    "head = nn.Sequential(*list(resnet.children())[-1:])\n",
    "# 输出模型的结构\n",
    "print('backbone:\\n',backbone)\n",
    "print('head:\\n',head)\n"
   ]
  },
  {
   "cell_type": "code",
   "execution_count": null,
   "metadata": {},
   "outputs": [],
   "source": [
    "64*64"
   ]
  },
  {
   "cell_type": "code",
   "execution_count": null,
   "metadata": {},
   "outputs": [],
   "source": [
    "print(len(list(resnet.children())))"
   ]
  },
  {
   "cell_type": "code",
   "execution_count": null,
   "metadata": {},
   "outputs": [],
   "source": [
    "import torch\n",
    "input_image = torch.randn(2, 1, 128,128)\n",
    "resnet.conv1 = nn.Conv2d(1, 64, kernel_size=7, stride=2, padding=3, bias=False)\n",
    "        \n",
    "for i in range(10):\n",
    "    backbone = nn.Sequential(*list(resnet.children())[:-i])\n",
    "    print(backbone(input_image).shape)"
   ]
  },
  {
   "cell_type": "code",
   "execution_count": null,
   "metadata": {},
   "outputs": [],
   "source": [
    "import torch\n",
    "import torch.nn as nn\n",
    "import torchvision.models as models\n",
    "\n",
    "resnet = models.resnet101(pretrained=True)\n",
    "\n",
    "# 将模型的conv1层替换为单通道的卷积层\n",
    "resnet.conv1 = nn.Conv2d(1, 64, kernel_size=7, stride=2, padding=3, bias=False)\n",
    "\n",
    "# 将每个子模块包装成序列并打印\n",
    "for name, module in resnet.named_children():\n",
    "    if isinstance(module, nn.Sequential):\n",
    "        # 如果子模块本身已经是一个序列，则不需要再次包装\n",
    "        seq_module = module\n",
    "    else:\n",
    "        # 否则，将子模块包装成一个序列\n",
    "        seq_module = nn.Sequential(module)\n",
    "    print(name)\n",
    "    print(seq_module)\n",
    "    print()\n"
   ]
  },
  {
   "cell_type": "code",
   "execution_count": null,
   "metadata": {},
   "outputs": [],
   "source": [
    "import numpy as np\n",
    "\n",
    "v1 = np.array([1, 0, 0, 0, 1, 1, 0])\n",
    "v2 = np.array([0, 1, 0, 0, 1, 0, 1])\n",
    "\n",
    "# 计算交集\n",
    "intersection = v1 & v2\n",
    "\n",
    "# 计算交集中1的个数\n",
    "count = np.sum(intersection)\n",
    "\n",
    "print(\"Intersection: \", intersection)\n",
    "print(\"Count of 1s in intersection: \", count)\n"
   ]
  },
  {
   "cell_type": "code",
   "execution_count": null,
   "metadata": {},
   "outputs": [],
   "source": [
    "count = np.count_nonzero(v1 != v2)\n",
    "print(count)"
   ]
  },
  {
   "cell_type": "code",
   "execution_count": null,
   "metadata": {},
   "outputs": [],
   "source": [
    "np.int((1-0.29320)*100)"
   ]
  },
  {
   "cell_type": "code",
   "execution_count": null,
   "metadata": {},
   "outputs": [],
   "source": [
    "# float to int, round to nearest,1.5->2, 1.4->1\n",
    "int(round(1.5))"
   ]
  },
  {
   "cell_type": "code",
   "execution_count": null,
   "metadata": {},
   "outputs": [],
   "source": [
    "14/300"
   ]
  },
  {
   "cell_type": "code",
   "execution_count": null,
   "metadata": {},
   "outputs": [],
   "source": [
    "7/300"
   ]
  },
  {
   "cell_type": "code",
   "execution_count": null,
   "metadata": {},
   "outputs": [],
   "source": [
    "9/300"
   ]
  },
  {
   "cell_type": "code",
   "execution_count": null,
   "metadata": {},
   "outputs": [],
   "source": [
    "import numpy as np\n",
    "# a,b are 10 dimension vectors, containg 0 and 1\n",
    "a = np.array([1, 0, 0, 0, 1, 1, 0])\n",
    "b = np.array([0, 1, 0, 0, 1, 0, 1])\n",
    "\n",
    "print(np.equal(a, b).astype(int))\n",
    "print(np.where(np.array(a) == np.array(b)))\n",
    "# union of raw and diff correct ids\n",
    "print(np.logical_or(a, b).astype(int))\n",
    "print(np.logical_and(a, b).astype(int))\n",
    "\n",
    "print(np.union1d(a,b))\n",
    "print(np.intersect1d(a,b))\n",
    "# print np.count_nonzero(np.intersect1d(a,b))\n",
    "print(np.count_nonzero(np.logical_or(a, b).astype(int)))\n",
    "print(np.count_nonzero(np.logical_and(a, b).astype(int)))\n",
    "# num_union_correct = np.count_nonzero(np.union1d(a,b))\n",
    "# # intersection of raw and diff correct ids\n",
    "# num_intersection_correct = np.count_nonzero(np.intersect1d(a,b))\n",
    "# summary.add_scalar(tag='Complimentary', scalar_value=int(round((1-num_intersection_correct/num_union_correct)*100)), global_step=epoch)\n"
   ]
  },
  {
   "cell_type": "code",
   "execution_count": null,
   "metadata": {},
   "outputs": [],
   "source": [
    "\n",
    "        raw_correct_ids = np.where(np.array(raw_y_pred) == np.array(y_true))"
   ]
  },
  {
   "cell_type": "code",
   "execution_count": null,
   "metadata": {},
   "outputs": [],
   "source": [
    "import sys\n",
    "import torch\n",
    "sys.path.append('/data0/tianjunchao/code/Tian-EEG-Image/')\n",
    "\n",
    "from datasets.eegdataset import EEGImages3CDataset\n",
    "\n",
    "from sklearn.model_selection import KFold\n",
    "\n",
    "\n",
    "from torch.utils.data import DataLoader, SubsetRandomSampler\n",
    "\n",
    "import matplotlib.pyplot as plt\n",
    "\n",
    "\n",
    "data_path = '/data0/tianjunchao/dataset/CVPR2021-02785/data/img_pkl/32x32'\n",
    "\n",
    "dataset = EEGImages3CDataset(path=data_path,grid_size=8)\n",
    "# if args.simple:\n",
    "#     dataset = SimpleEEGImages4x4Dataset(path=data_path,grid_size=args.grid_size) \n",
    "\n",
    "k_fold = KFold(n_splits=10, shuffle=True)\n",
    "\n",
    "\n",
    "backup_imgs = None\n",
    "for fold, (train_ids, valid_ids) in enumerate(k_fold.split(dataset)):\n",
    "    if fold > 0:\n",
    "        break\n",
    "    train_sampler = SubsetRandomSampler(train_ids)\n",
    "    valid_sampler = SubsetRandomSampler(valid_ids)\n",
    "    \n",
    "    train_loader = DataLoader(dataset, batch_size=128, sampler=train_sampler, num_workers=3,\n",
    "                                prefetch_factor=2)\n",
    "\n",
    "    for step, (x, y) in enumerate(train_loader):\n",
    "        backup_imgs = x\n",
    "        print(torch.max(x),torch.min(x))    \n",
    "        print(x.shape)\n",
    "        print(y.shape)\n",
    "\n",
    "        break\n"
   ]
  },
  {
   "cell_type": "code",
   "execution_count": null,
   "metadata": {},
   "outputs": [],
   "source": [
    "import sys\n",
    "import torch\n",
    "sys.path.append('/data0/tianjunchao/code/Tian-EEG-Image/')\n",
    "\n",
    "from datasets.eegdataset import EEGImages3CDataset\n",
    "\n",
    "from sklearn.model_selection import KFold\n",
    "\n",
    "\n",
    "from torch.utils.data import DataLoader, SubsetRandomSampler\n",
    "\n",
    "import matplotlib.pyplot as plt\n",
    "\n",
    "\n",
    "data_path = '/data0/tianjunchao/dataset/CVPR2021-02785/data/img_pkl/32x32'\n",
    "\n",
    "dataset = EEGImages3CDataset(path=data_path,grid_size=8)\n",
    "# if args.simple:\n",
    "#     dataset = SimpleEEGImages4x4Dataset(path=data_path,grid_size=args.grid_size) \n",
    "\n",
    "k_fold = KFold(n_splits=10, shuffle=True)\n",
    "\n",
    "\n",
    "backup_imgs = None\n",
    "for fold, (train_ids, valid_ids) in enumerate(k_fold.split(dataset)):\n",
    "    if fold > 0:\n",
    "        break\n",
    "    train_sampler = SubsetRandomSampler(train_ids)\n",
    "    valid_sampler = SubsetRandomSampler(valid_ids)\n",
    "    \n",
    "    train_loader = DataLoader(dataset, batch_size=128, sampler=train_sampler, num_workers=3,\n",
    "                                prefetch_factor=2)\n",
    "\n",
    "    for step, (x, y) in enumerate(train_loader):\n",
    "        backup_imgs = x\n",
    "        print(torch.max(x),torch.min(x))    \n",
    "        print(x.shape)\n",
    "        print(y.shape)\n",
    "\n",
    "        break\n"
   ]
  },
  {
   "cell_type": "code",
   "execution_count": null,
   "metadata": {},
   "outputs": [],
   "source": [
    "import sys\n",
    "import torch\n",
    "sys.path.append('/data0/tianjunchao/code/Tian-EEG-Image/')\n",
    "\n",
    "from datasets.eegdataset import EEGImages3CDataset\n",
    "\n",
    "from sklearn.model_selection import KFold\n",
    "\n",
    "\n",
    "from torch.utils.data import DataLoader, SubsetRandomSampler\n",
    "\n",
    "import matplotlib.pyplot as plt\n",
    "\n",
    "\n",
    "data_path = '/data0/tianjunchao/dataset/CVPR2021-02785/data/img_pkl/32x32'\n",
    "\n",
    "dataset = EEGImages3CDataset(path=data_path,grid_size=8)\n",
    "# if args.simple:\n",
    "#     dataset = SimpleEEGImages4x4Dataset(path=data_path,grid_size=args.grid_size) \n",
    "\n",
    "k_fold = KFold(n_splits=10, shuffle=True)\n",
    "\n",
    "\n",
    "backup_imgs = None\n",
    "for fold, (train_ids, valid_ids) in enumerate(k_fold.split(dataset)):\n",
    "    if fold > 0:\n",
    "        break\n",
    "    train_sampler = SubsetRandomSampler(train_ids)\n",
    "    valid_sampler = SubsetRandomSampler(valid_ids)\n",
    "    \n",
    "    train_loader = DataLoader(dataset, batch_size=128, sampler=train_sampler, num_workers=3,\n",
    "                                prefetch_factor=2)\n",
    "\n",
    "    for step, (x, y) in enumerate(train_loader):\n",
    "        backup_imgs = x\n",
    "        print(torch.max(x),torch.min(x))    \n",
    "        print(x.shape)\n",
    "        print(y.shape)\n",
    "\n",
    "        break\n"
   ]
  },
  {
   "cell_type": "code",
   "execution_count": null,
   "metadata": {},
   "outputs": [],
   "source": [
    "import numpy as np\n",
    "imgs = backup_imgs\n",
    "img = imgs[4]\n",
    "print(img.shape)\n",
    "# 将通道维度放在最后，以符合imshow的要求\n",
    "img = np.transpose(img, (1, 2, 0))\n",
    "# 画出图像\n",
    "plt.imshow(img)\n",
    "\n",
    "# 显示图像\n",
    "plt.show()\n",
    "# 分别画出每个通道的图像\n",
    "fig, axes = plt.subplots(nrows=1, ncols=3, figsize=(9, 3))\n",
    "\n",
    "for i, ax in enumerate(axes):\n",
    "    ax.imshow(img[..., i])\n",
    "    ax.set_title('Channel {}'.format(i+1))\n",
    "\n",
    "# 调整子图之间的间距\n",
    "plt.tight_layout()\n",
    "\n",
    "# 显示图像\n",
    "plt.show()"
   ]
  },
  {
   "cell_type": "code",
   "execution_count": null,
   "metadata": {},
   "outputs": [],
   "source": [
    "# 将通道维度放在最后，以符合imshow的要求\n",
    "imgs = np.transpose(imgs, (0, 2, 3, 1))\n",
    "\n",
    "# 打印16张图像\n",
    "fig, axes = plt.subplots(nrows=4, ncols=4, figsize=(10, 10))\n",
    "\n",
    "for i, ax in enumerate(axes.flat):\n",
    "    ax.imshow(imgs[i])\n",
    "    ax.set_axis_off()\n",
    "\n",
    "# 调整子图之间的间距\n",
    "plt.tight_layout()\n",
    "\n",
    "# 显示图像\n",
    "plt.show()"
   ]
  },
  {
   "cell_type": "code",
   "execution_count": null,
   "metadata": {},
   "outputs": [],
   "source": [
    "import matplotlib.pyplot as plt\n",
    "import numpy as np\n",
    "\n",
    "# 随机生成[3, 224, 224]张量\n",
    "img_a = np.random.rand(3, 224, 224)\n",
    "# 将通道轴转换为第一个维度\n",
    "img_a = np.transpose(img_a, (1, 2, 0))\n",
    "\n",
    "img_b = -img_a\n",
    "img_c = np.clip((img_b - img_b.min()) / (img_b.max() - img_b.min()), 0, 1)\n",
    "\n",
    "print(np.min(img_a), np.max(img_a))\n",
    "print(np.min(img_b), np.max(img_b))\n",
    "print(np.min(img_c), np.max(img_c))\n",
    "\n",
    "\n",
    "# 分别绘制3个通道的图像\n",
    "fig, ax = plt.subplots(1, 4)\n",
    "ax[0].imshow(img_a, cmap='gray')\n",
    "ax[0].set_title('Channel 1')\n",
    "ax[1].imshow(img_b, cmap='gray')\n",
    "ax[1].set_title('Channel 2')\n",
    "ax[2].imshow(img_c, cmap='gray')\n",
    "ax[2].set_title('Channel 3')\n",
    "ax[3].imshow(img_c-img_a, cmap='gray')\n",
    "ax[3].set_title('Channel 4')\n",
    "plt.show()"
   ]
  },
  {
   "cell_type": "code",
   "execution_count": null,
   "metadata": {},
   "outputs": [],
   "source": [
    "\n",
    "# 将张量中的最小值设为0，最大值设为1，然后进行裁剪\n",
    "random_tensor = np.clip((random_tensor - random_tensor.min()) / (random_tensor.max() - random_tensor.min()), 0, 1)\n",
    "\n",
    "\n",
    "print(np.min(random_tensor), np.max(random_tensor))\n",
    "# 将通道轴转换为第一个维度\n",
    "random_tensor = np.transpose(random_tensor, (1, 2, 0))\n",
    "\n",
    "# 显示图像\n",
    "plt.imshow(random_tensor)\n",
    "plt.show()"
   ]
  },
  {
   "cell_type": "code",
   "execution_count": null,
   "metadata": {},
   "outputs": [],
   "source": [
    "1+2"
   ]
  },
  {
   "cell_type": "code",
   "execution_count": null,
   "metadata": {},
   "outputs": [],
   "source": [
    "import numpy as np\n",
    "\n",
    "# 创建一个6x224x224的数组\n",
    "a = np.random.rand(3,2, 2)\n",
    "print(a)\n",
    "# 找到最大值和最小值，并计算它们的差值\n",
    "diff = np.amax(a, axis=0) - np.amin(a, axis=0)\n",
    "print(diff.shape)\n",
    "# 将维度变换为[1, 224, 224]\n",
    "diff = np.expand_dims(diff, axis=0)\n",
    "print(diff)\n",
    "print('max', np.amax(a, axis=0))\n",
    "print('min',np.amin(a, axis=0))\n",
    "# 打印结果\n",
    "print(diff.shape)\n"
   ]
  },
  {
   "cell_type": "code",
   "execution_count": null,
   "metadata": {},
   "outputs": [],
   "source": []
  }
 ],
 "metadata": {
  "kernelspec": {
   "display_name": "tian",
   "language": "python",
   "name": "python3"
  },
  "language_info": {
   "codemirror_mode": {
    "name": "ipython",
    "version": 3
   },
   "file_extension": ".py",
   "mimetype": "text/x-python",
   "name": "python",
   "nbconvert_exporter": "python",
   "pygments_lexer": "ipython3",
   "version": "3.10.10"
  },
  "orig_nbformat": 4
 },
 "nbformat": 4,
 "nbformat_minor": 2
}
