{
 "cells": [
  {
   "cell_type": "code",
   "execution_count": 5,
   "metadata": {},
   "outputs": [
    {
     "name": "stdout",
     "output_type": "stream",
     "text": [
      "(5, 5)\n",
      "(5, 5)\n",
      "[[-0.71481135 -0.94966557  0.31043118 -0.08324053 -1.98671364]\n",
      " [ 0.56764968 -0.81982072 -0.76876548 -0.30964861 -0.19230251]\n",
      " [-1.64673451  0.63611832  0.55377829  0.7771361  -0.29472711]\n",
      " [ 0.05147647  0.44691844 -0.25051051 -1.12305466 -0.54752398]\n",
      " [ 0.68047694  0.81060616  0.09864745 -1.2711031  -0.79300522]]\n",
      "[[-6.8479998   1.4007582  -4.35365054  3.14324917  0.62250528]\n",
      " [-3.04577529  0.84577169  2.84290587  1.86378238  0.52196611]\n",
      " [ 0.0511422  -2.73744723 -5.12234672 -1.32114827 -2.37902637]\n",
      " [-2.84538848  2.98498063  0.11627445 -2.28209905  0.28641615]\n",
      " [-0.94875555  5.24992564 -0.09476673 -2.22746415  0.8728483 ]]\n",
      "[[-27.27355384  15.48797784 -13.22316731  -1.64735986  -0.15058107]\n",
      " [-11.45659819  -9.83634249  -4.89553092  15.08947974  -0.19927514]\n",
      " [ -9.07676011  13.86839183   1.21812909   4.38260175   6.67797794]\n",
      " [ -6.55381918  -0.45595052 -10.19297934  -1.57228294  -0.74233853]\n",
      " [  4.8157278   -7.56283326 -17.78202085  -1.39945969  -5.14186336]]\n"
     ]
    }
   ],
   "source": [
    "# import scipy and numpy \n",
    "from scipy import fft \n",
    "import numpy as np \n",
    "  \n",
    "data = np.random.randn(5, 5) \n",
    "  \n",
    "# use dct and dctn functions to calculate the discrete cosine transform\n",
    "a = fft.dct(data)\n",
    "b = fft.dctn(data)\n",
    "\n",
    "print(a.shape)\n",
    "print(b.shape)\n",
    "print(data)\n",
    "print(a)\n",
    "print(b)\n",
    "# print(gfg)"
   ]
  },
  {
   "cell_type": "code",
   "execution_count": 13,
   "metadata": {},
   "outputs": [
    {
     "data": {
      "text/plain": [
       "array([], dtype=int64)"
      ]
     },
     "execution_count": 13,
     "metadata": {},
     "output_type": "execute_result"
    }
   ],
   "source": [
    "indexes = np.random.choice(10, 0, replace=False)\n",
    "indexes"
   ]
  },
  {
   "cell_type": "code",
   "execution_count": 7,
   "metadata": {},
   "outputs": [
    {
     "data": {
      "text/plain": [
       "array([9, 7, 2, 3, 0])"
      ]
     },
     "execution_count": 7,
     "metadata": {},
     "output_type": "execute_result"
    }
   ],
   "source": [
    "indexes"
   ]
  },
  {
   "cell_type": "code",
   "execution_count": 6,
   "metadata": {},
   "outputs": [
    {
     "data": {
      "text/plain": [
       "tensor([[0.0025, 0.9025, 0.0025, 0.0025, 0.0025, 0.0025, 0.0025, 0.0025, 0.0025,\n",
       "         0.0025, 0.0025, 0.0025, 0.0025, 0.0025, 0.0025, 0.0025, 0.0025, 0.0025,\n",
       "         0.0025, 0.0025, 0.0025, 0.0025, 0.0025, 0.0025, 0.0025, 0.0025, 0.0025,\n",
       "         0.0025, 0.0025, 0.0025, 0.0025, 0.0025, 0.0025, 0.0025, 0.0025, 0.0025,\n",
       "         0.0025, 0.0025, 0.0025, 0.0025],\n",
       "        [0.0025, 0.0025, 0.0025, 0.0025, 0.0025, 0.0025, 0.0025, 0.0025, 0.0025,\n",
       "         0.0025, 0.0025, 0.0025, 0.9025, 0.0025, 0.0025, 0.0025, 0.0025, 0.0025,\n",
       "         0.0025, 0.0025, 0.0025, 0.0025, 0.0025, 0.0025, 0.0025, 0.0025, 0.0025,\n",
       "         0.0025, 0.0025, 0.0025, 0.0025, 0.0025, 0.0025, 0.0025, 0.0025, 0.0025,\n",
       "         0.0025, 0.0025, 0.0025, 0.0025]])"
      ]
     },
     "execution_count": 6,
     "metadata": {},
     "output_type": "execute_result"
    }
   ],
   "source": [
    "import torch\n",
    "# 将真实标签转换为one-hot向量\n",
    "\n",
    "\n",
    "# 将真实标签转换为one-hot向量\n",
    "\n",
    "def smooth_labels(targets, smoothing=0.1):\n",
    "    num_classes = 40\n",
    "    # 将目标标签转换为one-hot表示形式\n",
    "    targets_one_hot = torch.zeros(targets.size(0), num_classes, device=targets.device)\n",
    "    targets_one_hot.scatter_(1, targets.view(-1, 1), 1)\n",
    "\n",
    "    # 计算平滑后的标签分布\n",
    "    targets_smoothed = (1.0 - smoothing) * targets_one_hot + smoothing / num_classes\n",
    "    return targets_smoothed\n",
    "\n",
    "# test smooth_labels\n",
    "outputs = torch.tensor([[0.1, 0.9], [0.3, 0.7]])\n",
    "targets = torch.tensor([1, 12])\n",
    "smooth_labels(targets, smoothing=0.1)\n"
   ]
  },
  {
   "cell_type": "code",
   "execution_count": null,
   "metadata": {},
   "outputs": [],
   "source": []
  }
 ],
 "metadata": {
  "kernelspec": {
   "display_name": "tian",
   "language": "python",
   "name": "python3"
  },
  "language_info": {
   "codemirror_mode": {
    "name": "ipython",
    "version": 3
   },
   "file_extension": ".py",
   "mimetype": "text/x-python",
   "name": "python",
   "nbconvert_exporter": "python",
   "pygments_lexer": "ipython3",
   "version": "3.10.10"
  },
  "orig_nbformat": 4
 },
 "nbformat": 4,
 "nbformat_minor": 2
}
