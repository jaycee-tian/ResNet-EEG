{
 "cells": [
  {
   "cell_type": "code",
   "execution_count": 1,
   "metadata": {},
   "outputs": [],
   "source": [
    "from PIL import Image\n",
    "from reportlab.pdfgen import canvas\n",
    "from reportlab.lib.pagesizes import A4, landscape\n",
    "import tempfile\n",
    "import os\n",
    "\n",
    "# 设置PDF页面大小和边距\n",
    "PAGE_WIDTH, PAGE_HEIGHT = landscape(A4)\n",
    "LEFT_MARGIN, BOTTOM_MARGIN, RIGHT_MARGIN, TOP_MARGIN = 50, 50, 50, 50\n",
    "\n",
    "# 设置每页显示的图片数量\n",
    "IMAGES_PER_PAGE = 1\n",
    "\n",
    "# 获取所有图片文件的文件名\n",
    "image_dir = '/data0/tianjunchao/code/Tian-EEG-Image/0.alpha/4.materials/labels/0419/0724'\n",
    "image_filenames = [filename for filename in os.listdir(image_dir) if filename.endswith('.png')]\n",
    "\n",
    "# 将文件名按数字顺序排序\n",
    "image_filenames = sorted(image_filenames, key=lambda x: int(x.split(' - ')[0]))\n"
   ]
  },
  {
   "cell_type": "code",
   "execution_count": 2,
   "metadata": {},
   "outputs": [
    {
     "name": "stdout",
     "output_type": "stream",
     "text": [
      "['0 - 0~0.png', '1 - 1~1.png', '2 - 2~2.png', '3 - 3~3.png', '4 - 4~4.png', '5 - 5~5.png', '6 - 6~6.png', '7 - 7~7.png', '8 - 8~8.png', '9 - 9~9.png', '10 - 10~10.png', '11 - 11~11.png', '12 - 12~12.png', '13 - 13~13.png', '14 - 14~14.png', '15 - 15~15.png', '16 - 16~16.png', '17 - 17~17.png', '18 - 18~18.png', '19 - 19~19.png', '20 - 20~20.png', '21 - 21~21.png', '22 - 22~22.png', '23 - 23~23.png', '24 - 24~24.png', '25 - 25~25.png', '26 - 26~26.png', '27 - 27~27.png', '28 - 28~28.png', '29 - 29~29.png', '30 - 30~30.png', '31 - 31~31.png', '32 - 32~32.png', '33 - 33~33.png', '34 - 34~34.png', '35 - 35~35.png', '36 - 36~36.png', '37 - 37~37.png', '38 - 38~38.png', '39 - 39~39.png']\n"
     ]
    }
   ],
   "source": [
    "print(image_filenames)"
   ]
  },
  {
   "cell_type": "code",
   "execution_count": 3,
   "metadata": {},
   "outputs": [],
   "source": [
    "# 计算需要生成的PDF页数\n",
    "num_pages = (len(image_filenames) + IMAGES_PER_PAGE - 1) // IMAGES_PER_PAGE\n",
    "\n",
    "# 创建一个PDF文件\n",
    "pdf_file = canvas.Canvas('2ddiff.pdf', pagesize=landscape(A4))\n",
    "\n",
    "# 循环处理每一页\n",
    "for page in range(num_pages):\n",
    "    # 计算本页要显示的图片的编号\n",
    "    start_idx = page * IMAGES_PER_PAGE\n",
    "    end_idx = min(start_idx + IMAGES_PER_PAGE, len(image_filenames))\n",
    "    image_indices = range(start_idx, end_idx)\n",
    "\n",
    "    # 创建一个新的PDF页面\n",
    "    pdf_file.showPage()\n",
    "\n",
    "    # 循环处理本页要显示的每张图片\n",
    "    for idx in image_indices:\n",
    "        # 打开图片文件并将其调整为合适的大小\n",
    "        image = Image.open(os.path.join(image_dir, image_filenames[idx]))\n",
    "        image_width, image_height = image.size\n",
    "        if image_width > PAGE_WIDTH - LEFT_MARGIN - RIGHT_MARGIN:\n",
    "            image_height = image_height * (PAGE_WIDTH - LEFT_MARGIN - RIGHT_MARGIN) // image_width\n",
    "            image_width = PAGE_WIDTH - LEFT_MARGIN - RIGHT_MARGIN\n",
    "        if image_height > PAGE_HEIGHT - TOP_MARGIN - BOTTOM_MARGIN:\n",
    "            image_width = image_width * (PAGE_HEIGHT - TOP_MARGIN - BOTTOM_MARGIN) // image_height\n",
    "            image_height = PAGE_HEIGHT - TOP_MARGIN - BOTTOM_MARGIN\n",
    "        image = image.resize((int(image_width), int(image_height)))\n",
    "\n",
    "        # 计算图像在PDF页面中的位置\n",
    "        x_pos = (PAGE_WIDTH - LEFT_MARGIN - RIGHT_MARGIN - image_width) / 2 + LEFT_MARGIN\n",
    "        y_pos = (PAGE_HEIGHT - TOP_MARGIN - BOTTOM_MARGIN - image_height) / 2 + BOTTOM_MARGIN\n",
    "\n",
    "        # 将图片保存到临时文件中\n",
    "        with tempfile.NamedTemporaryFile(delete=False) as temp_file:\n",
    "            image.save(temp_file, format='png')\n",
    "            temp_file.flush()\n",
    "\n",
    "        # 将临时文件的路径传递给pdf_file.drawImage()方法\n",
    "        pdf_file.drawImage(temp_file.name, x_pos, y_pos, width=image_width, height=image_height)\n",
    "\n",
    "        # 删除临时文件\n",
    "        os.unlink(temp_file.name)\n",
    "\n",
    "# 保存PDF文件\n",
    "pdf_file.save()"
   ]
  },
  {
   "cell_type": "code",
   "execution_count": null,
   "metadata": {},
   "outputs": [],
   "source": []
  }
 ],
 "metadata": {
  "kernelspec": {
   "display_name": "tian",
   "language": "python",
   "name": "python3"
  },
  "language_info": {
   "codemirror_mode": {
    "name": "ipython",
    "version": 3
   },
   "file_extension": ".py",
   "mimetype": "text/x-python",
   "name": "python",
   "nbconvert_exporter": "python",
   "pygments_lexer": "ipython3",
   "version": "3.10.10"
  },
  "orig_nbformat": 4
 },
 "nbformat": 4,
 "nbformat_minor": 2
}
