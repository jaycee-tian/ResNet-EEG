{
 "cells": [
  {
   "cell_type": "code",
   "execution_count": null,
   "metadata": {},
   "outputs": [],
   "source": [
    "import torch\n",
    "import numpy as np\n",
    "import mne\n",
    "import einops\n",
    "from preprocessing import aep, read_info"
   ]
  },
  {
   "cell_type": "code",
   "execution_count": null,
   "metadata": {},
   "outputs": [],
   "source": [
    "# 文件所在目录\n",
    "dir_path = '/data0/tianjunchao/dataset/CVPR2021-02785/'\n",
    "# 数据文件\n",
    "file_data = 'data/imagenet40-1000-1-00.bdf'\n",
    "# 坐标文件\n",
    "file_montage = 'data/biosemi96.sfp'\n",
    "# 标签文件\n",
    "file_label = 'design/run-00.txt'\n",
    "\n",
    "file_path = dir_path + file_data\n",
    "montage_path = dir_path  + file_montage\n",
    "label_path = dir_path + file_label"
   ]
  },
  {
   "cell_type": "code",
   "execution_count": null,
   "metadata": {},
   "outputs": [],
   "source": [
    "# 读取标签\n",
    "labels = read_info.LabelReader().get_set(label_path)\n",
    "# 400\n",
    "\n",
    "# 读取数据文件，坐标文件\n",
    "X_3d, coords_3d = read_info.read_auto(file_path, montage_path)\n",
    "# (400, 2868, 96), (96,3)\n"
   ]
  },
  {
   "cell_type": "code",
   "execution_count": null,
   "metadata": {},
   "outputs": [],
   "source": [
    "# 把三维坐标映射为二维坐标\n",
    "from preprocessing import aep\n",
    "\n",
    "locs_2d = [aep.azim_proj(e) for e in coords_3d]"
   ]
  },
  {
   "cell_type": "code",
   "execution_count": null,
   "metadata": {},
   "outputs": [],
   "source": [
    "# （测试）画出二维坐标\n",
    "import matplotlib.pyplot as plt\n",
    "x = [point[0] for point in locs_2d]\n",
    "y = [point[1] for point in locs_2d]\n",
    "\n",
    "plt.scatter(x,y)\n",
    "plt.show()"
   ]
  },
  {
   "cell_type": "code",
   "execution_count": null,
   "metadata": {},
   "outputs": [],
   "source": [
    "# 转换图像，并保存\n",
    "samples, time, channels = np.shape(X_3d)\n",
    "X_3d = einops.rearrange(X_3d, 'n t c -> (n t) c', n=samples, t=time, c=channels)\n",
    "\n",
    "\n",
    "images = aep.gen_images(np.array(locs_2d), features=X_3d, n_gridpoints=32,normalize=True).squeeze()\n",
    "\n",
    "images = einops.rearrange(images, '(n t) w h -> n t w h', n=samples, t=time)"
   ]
  },
  {
   "cell_type": "code",
   "execution_count": null,
   "metadata": {},
   "outputs": [],
   "source": []
  },
  {
   "cell_type": "code",
   "execution_count": null,
   "metadata": {},
   "outputs": [],
   "source": [
    "# 打印通道名称\n",
    "print(\"通道名称：\", raw.ch_names)\n",
    "\n",
    "# 打印数据信息\n",
    "print(\"数据信息：\")\n",
    "print(raw.info)\n",
    "\n",
    "# 获取并打印采样率\n",
    "sampling_rate = raw.info['sfreq']\n",
    "print(\"采样率：\", sampling_rate)\n",
    "\n",
    "# 打印时间数组\n",
    "print(\"时间数组：\", raw.times)\n",
    "\n",
    "# 打印时间点数量\n",
    "print(\"时间点数量：\", raw.n_times)\n",
    "\n",
    "# 打印注释和事件信息\n",
    "print(\"注释和事件信息：\", raw.annotations)\n"
   ]
  },
  {
   "cell_type": "code",
   "execution_count": null,
   "metadata": {},
   "outputs": [],
   "source": [
    "# 查看 Raw 对象中的信息\n",
    "# print(raw.info['chs'])\n",
    "\n",
    "# 获取数据\n",
    "data, times = raw.get_data(return_times=True)\n",
    "\n",
    "# 数据的形状为 (通道数, 时间点数)\n",
    "print(\"Data shape: \", data.shape)\n",
    "print(\"Times shape: \", times.shape)\n",
    "\n",
    "\n",
    "electrode_names = [ch['ch_name'] for ch in raw.info['chs']]\n",
    "electrode_coords = [ch['loc'][:3] for ch in raw.info['chs']]\n",
    "\n",
    "# 将电极名和坐标组合成字典\n",
    "electrode_dict = dict(zip(electrode_names, electrode_coords))\n",
    "\n",
    "# 输出所有电极名和对应的坐标\n",
    "for name, coords in electrode_dict.items():\n",
    "    print(f\"{name}: {coords}\")\n"
   ]
  },
  {
   "cell_type": "code",
   "execution_count": null,
   "metadata": {},
   "outputs": [],
   "source": [
    "locs = [value[:2] for value in electrode_dict.values()]\n",
    "# 坐标"
   ]
  },
  {
   "cell_type": "code",
   "execution_count": null,
   "metadata": {},
   "outputs": [],
   "source": []
  },
  {
   "cell_type": "code",
   "execution_count": null,
   "metadata": {},
   "outputs": [],
   "source": [
    "print(123)"
   ]
  },
  {
   "cell_type": "code",
   "execution_count": null,
   "metadata": {},
   "outputs": [],
   "source": [
    "# 从0到20之间随机选4个数字\n",
    "import numpy as np\n",
    "random_numbers = np.random.choice(21, size=4, replace=False)\n",
    "random_numbers.sort()\n",
    "x = np.random.randint(0, 100, size=(20, 5))\n",
    "x_split = np.split(x, random_numbers+1)\n",
    "# divide x into 6 segments\n",
    "# 从0到20之间随机选4个数字\n",
    "\n",
    "avg = [np.mean(segment, axis=0) for segment in x_split]\n",
    "\n",
    "\n",
    "print(avg)\n",
    "\n"
   ]
  },
  {
   "cell_type": "code",
   "execution_count": null,
   "metadata": {},
   "outputs": [],
   "source": []
  }
 ],
 "metadata": {
  "kernelspec": {
   "display_name": "Python 3",
   "language": "python",
   "name": "python3"
  },
  "language_info": {
   "codemirror_mode": {
    "name": "ipython",
    "version": 3
   },
   "file_extension": ".py",
   "mimetype": "text/x-python",
   "name": "python",
   "nbconvert_exporter": "python",
   "pygments_lexer": "ipython3",
   "version": "3.10.10"
  },
  "orig_nbformat": 4
 },
 "nbformat": 4,
 "nbformat_minor": 2
}
