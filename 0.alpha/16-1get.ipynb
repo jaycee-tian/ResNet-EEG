{
 "cells": [
  {
   "cell_type": "code",
   "execution_count": 6,
   "metadata": {},
   "outputs": [],
   "source": [
    "import torchvision.datasets as datasets\n",
    "from torch.utils.data import DataLoader\n",
    "from prepare.eegdataset import N_Mix_GeneralEEGImageDataset, GeneralEEGImageDataset, N_GeneralEEGImageDataset, N2_GeneralEEGImageDataset\n",
    "import numpy as np\n",
    "import matplotlib.pyplot as plt\n",
    "import torch\n",
    "data_path = '/data0/tianjunchao/dataset/CVPR2021-02785/data/img_pkl/32x32'\n",
    "# dataset = GeneralEEGImageDataset(path=data_path, n_channels=1, grid_size=8)\n",
    "dataset = N_Mix_GeneralEEGImageDataset(path=data_path, n_channels=1, grid_size=8)\n",
    "\n",
    "dataloader = DataLoader(dataset, batch_size=32)\n",
    "# def a function to show images\n",
    "import os\n",
    "\n",
    "from utils.eegutils import getNow\n",
    "from run.others import SmallNet\n",
    "from prepare.data import filter_two_samples\n",
    "import run.resnet as resnet\n",
    "import torch.nn as nn\n",
    "\n",
    "material_dir = \"4.materials/features/\"+getNow()+\"/\"\n",
    "if not os.path.exists(material_dir):\n",
    "    os.makedirs(material_dir)"
   ]
  },
  {
   "cell_type": "code",
   "execution_count": 7,
   "metadata": {},
   "outputs": [],
   "source": [
    "def show_images(imgs, labels,img_dir=None):\n",
    "    # 将通道维度放在最后，以符合imshow的要求\n",
    "    imgs = np.transpose(imgs, (0, 2, 3, 1))\n",
    "\n",
    "    n_imgs = len(labels)\n",
    "    ncols = 4\n",
    "    nrows = n_imgs//ncols\n",
    "\n",
    "    # print('imgs.shape: ', imgs.shape)\n",
    "    # 打印16张图像\n",
    "    fig, axes = plt.subplots(nrows=nrows, ncols=ncols, figsize=(10, 10))\n",
    "    # 显示每个图像的标签\n",
    "\n",
    "\n",
    "    for i, ax in enumerate(axes.flat):\n",
    "        ax.set_title(labels[i])\n",
    "        ax.imshow(imgs[i])\n",
    "        ax.set_axis_off()\n",
    "\n",
    "    # 调整子图之间的间距\n",
    "    plt.tight_layout()\n",
    "\n",
    "    if img_dir is not None:\n",
    "    # 显示图像\n",
    "    # plt.show()\n",
    "        plt.savefig(img_dir+ str(labels[0])+'-'+str(labels[len(labels)-1])+'.png')\n",
    "        plt.close()\n",
    "\n",
    "def show_channels(img):\n",
    "    plt.imshow(img)\n",
    "\n",
    "    # 显示图像\n",
    "    plt.show()\n",
    "    # 分别画出每个通道的图像\n",
    "    fig, axes = plt.subplots(nrows=1, ncols=3, figsize=(9, 3))\n",
    "\n",
    "    for i, ax in enumerate(axes):\n",
    "        ax.imshow(img[..., i])\n",
    "        ax.set_title('Channel {}'.format(i+1))\n",
    "\n",
    "    # 调整子图之间的间距\n",
    "    plt.tight_layout()\n",
    "\n",
    "    # 显示图像\n",
    "    plt.show()\n",
    "\n",
    "\n",
    "\n",
    "# draw images in each segment\n",
    "def draw_list(segment):\n",
    "    images = []\n",
    "    labels = []\n",
    "\n",
    "    # 遍历segment中的每个元素\n",
    "    for i, data in enumerate(segment):\n",
    "        x1,x2, y = data[0], data[1],data[2]\n",
    "        \n",
    "        images.append(x1)\n",
    "        images.append(x2)\n",
    "        # append y to labels\n",
    "        labels.append(y)\n",
    "        labels.append(y)\n",
    "    \n",
    "    images = torch.stack(images, dim=0).view(len(labels), 3, 224, 224)\n",
    "    return images,labels"
   ]
  },
  {
   "cell_type": "code",
   "execution_count": 8,
   "metadata": {},
   "outputs": [
    {
     "name": "stdout",
     "output_type": "stream",
     "text": [
      "i: 0\n",
      "i: 1\n",
      "torch.Size([2, 128, 3, 224, 224])\n",
      "torch.Size([2, 128])\n"
     ]
    }
   ],
   "source": [
    "result_images = []\n",
    "result_labels = []\n",
    "\n",
    "for i, (raw_images, raw_labels) in enumerate(dataloader):\n",
    "    if i == 2:\n",
    "        break\n",
    "    # raw images is a list with 2 elements, each element is a tensor of shape (batch_size, 3, 224, 224), i want to get batch, 2, 3, 224, 224\n",
    "    n_samples = len(raw_images)\n",
    "    # print('n_samples: ', n_samples)\n",
    "    raw_images = torch.stack(raw_images, dim=1)\n",
    "    # # dimension of raw-labels is [2,], copy it to dimension [2,16]\n",
    "    raw_labels = raw_labels.unsqueeze(1).repeat(1,n_samples)\n",
    "    # print('raw_images.shape: ', raw_images.shape)\n",
    "    # print('raw_labels.shape: ', raw_labels.shape)\n",
    "    # get 32x4,3,224,224\n",
    "    raw_images = raw_images.view(-1, 3, 224, 224)\n",
    "    # get 32x4\n",
    "    raw_labels = raw_labels.view(-1)\n",
    "    result_images.append(raw_images)\n",
    "    result_labels.append(raw_labels)\n",
    "    print('i:',i)\n",
    "\n",
    "result_images = torch.stack(result_images, dim=0)\n",
    "result_labels = torch.stack(result_labels, dim=0)\n",
    "print(result_images.shape)\n",
    "print(result_labels.shape)\n"
   ]
  },
  {
   "cell_type": "code",
   "execution_count": 9,
   "metadata": {},
   "outputs": [],
   "source": [
    "# 用pca降维为50维度，然后用tsne降维为2维度\n",
    "from sklearn.decomposition import PCA\n",
    "from sklearn.manifold import TSNE\n",
    "\n",
    "\n",
    "def get_tsne_features(features):\n",
    "    features = PCA(n_components=50).fit_transform(features)\n",
    "    features = TSNE(verbose=1,learning_rate='auto',init='pca').fit_transform(features)\n",
    "    return features"
   ]
  },
  {
   "cell_type": "code",
   "execution_count": 10,
   "metadata": {},
   "outputs": [
    {
     "name": "stdout",
     "output_type": "stream",
     "text": [
      "resnet18\n",
      "feature_list.shape:  torch.Size([256, 512])\n",
      "label_list.shape:  torch.Size([256])\n",
      "[t-SNE] Computing 91 nearest neighbors...\n",
      "[t-SNE] Indexed 256 samples in 0.000s...\n",
      "[t-SNE] Computed neighbors for 256 samples in 0.028s...\n",
      "[t-SNE] Computed conditional probabilities for sample 256 / 256\n",
      "[t-SNE] Mean sigma: 3.566378\n"
     ]
    },
    {
     "name": "stderr",
     "output_type": "stream",
     "text": [
      "/data0/tianjunchao/anaconda3/envs/tian/lib/python3.10/site-packages/sklearn/manifold/_t_sne.py:982: FutureWarning: The PCA initialization in TSNE will change to have the standard deviation of PC1 equal to 1e-4 in 1.2. This will ensure better convergence.\n",
      "  warnings.warn(\n"
     ]
    },
    {
     "name": "stdout",
     "output_type": "stream",
     "text": [
      "[t-SNE] KL divergence after 250 iterations with early exaggeration: 54.308838\n",
      "[t-SNE] KL divergence after 1000 iterations: 0.475743\n",
      "resnet34\n",
      "feature_list.shape:  torch.Size([256, 512])\n",
      "label_list.shape:  torch.Size([256])\n",
      "[t-SNE] Computing 91 nearest neighbors...\n",
      "[t-SNE] Indexed 256 samples in 0.000s...\n",
      "[t-SNE] Computed neighbors for 256 samples in 0.029s...\n",
      "[t-SNE] Computed conditional probabilities for sample 256 / 256\n",
      "[t-SNE] Mean sigma: 5.001968\n"
     ]
    },
    {
     "name": "stderr",
     "output_type": "stream",
     "text": [
      "/data0/tianjunchao/anaconda3/envs/tian/lib/python3.10/site-packages/sklearn/manifold/_t_sne.py:982: FutureWarning: The PCA initialization in TSNE will change to have the standard deviation of PC1 equal to 1e-4 in 1.2. This will ensure better convergence.\n",
      "  warnings.warn(\n"
     ]
    },
    {
     "name": "stdout",
     "output_type": "stream",
     "text": [
      "[t-SNE] KL divergence after 250 iterations with early exaggeration: 54.437443\n",
      "[t-SNE] KL divergence after 1000 iterations: 0.459844\n",
      "resnet50\n",
      "feature_list.shape:  torch.Size([256, 2048])\n",
      "label_list.shape:  torch.Size([256])\n",
      "[t-SNE] Computing 91 nearest neighbors...\n",
      "[t-SNE] Indexed 256 samples in 0.000s...\n",
      "[t-SNE] Computed neighbors for 256 samples in 0.025s...\n",
      "[t-SNE] Computed conditional probabilities for sample 256 / 256\n",
      "[t-SNE] Mean sigma: 2.081969\n"
     ]
    },
    {
     "name": "stderr",
     "output_type": "stream",
     "text": [
      "/data0/tianjunchao/anaconda3/envs/tian/lib/python3.10/site-packages/sklearn/manifold/_t_sne.py:982: FutureWarning: The PCA initialization in TSNE will change to have the standard deviation of PC1 equal to 1e-4 in 1.2. This will ensure better convergence.\n",
      "  warnings.warn(\n"
     ]
    },
    {
     "name": "stdout",
     "output_type": "stream",
     "text": [
      "[t-SNE] KL divergence after 250 iterations with early exaggeration: 53.944016\n",
      "[t-SNE] KL divergence after 1000 iterations: 0.551060\n",
      "resnet101\n",
      "feature_list.shape:  torch.Size([256, 2048])\n",
      "label_list.shape:  torch.Size([256])\n",
      "[t-SNE] Computing 91 nearest neighbors...\n",
      "[t-SNE] Indexed 256 samples in 0.000s...\n",
      "[t-SNE] Computed neighbors for 256 samples in 0.026s...\n",
      "[t-SNE] Computed conditional probabilities for sample 256 / 256\n",
      "[t-SNE] Mean sigma: 3.451401\n"
     ]
    },
    {
     "name": "stderr",
     "output_type": "stream",
     "text": [
      "/data0/tianjunchao/anaconda3/envs/tian/lib/python3.10/site-packages/sklearn/manifold/_t_sne.py:982: FutureWarning: The PCA initialization in TSNE will change to have the standard deviation of PC1 equal to 1e-4 in 1.2. This will ensure better convergence.\n",
      "  warnings.warn(\n"
     ]
    },
    {
     "name": "stdout",
     "output_type": "stream",
     "text": [
      "[t-SNE] KL divergence after 250 iterations with early exaggeration: 54.157444\n",
      "[t-SNE] KL divergence after 1000 iterations: 0.475561\n",
      "resnet152\n",
      "feature_list.shape:  torch.Size([256, 2048])\n",
      "label_list.shape:  torch.Size([256])\n",
      "[t-SNE] Computing 91 nearest neighbors...\n",
      "[t-SNE] Indexed 256 samples in 0.000s...\n",
      "[t-SNE] Computed neighbors for 256 samples in 0.022s...\n",
      "[t-SNE] Computed conditional probabilities for sample 256 / 256\n",
      "[t-SNE] Mean sigma: 2.761851\n"
     ]
    },
    {
     "name": "stderr",
     "output_type": "stream",
     "text": [
      "/data0/tianjunchao/anaconda3/envs/tian/lib/python3.10/site-packages/sklearn/manifold/_t_sne.py:982: FutureWarning: The PCA initialization in TSNE will change to have the standard deviation of PC1 equal to 1e-4 in 1.2. This will ensure better convergence.\n",
      "  warnings.warn(\n"
     ]
    },
    {
     "name": "stdout",
     "output_type": "stream",
     "text": [
      "[t-SNE] KL divergence after 250 iterations with early exaggeration: 53.866749\n",
      "[t-SNE] KL divergence after 1000 iterations: 0.406061\n"
     ]
    }
   ],
   "source": [
    "model_list = [resnet.resnet_name_A,resnet.resnet_name_B,resnet.resnet_name_C,resnet.resnet_name_D,resnet.resnet_name_E]\n",
    "# model_list = ['smallnetA']\n",
    "device = torch.device('cuda:0' if torch.cuda.is_available() else 'cpu')\n",
    "for model_name in model_list:\n",
    "    if 'resnet' in model_name:\n",
    "        model = list(resnet.ResNet(num_classes=40,model_name=model_name, pretrained=True).children())[0]\n",
    "    else:\n",
    "        model = list(SmallNet().children())[0]\n",
    "\n",
    "    feature_extractor = nn.Sequential(*list(model.children())[:-1])\n",
    "    \n",
    "    if 'mobilenet' in model_name:\n",
    "        feature_extractor.add_module(\"AdaptiveAvgPool\", nn.AdaptiveAvgPool2d(1))\n",
    "\n",
    "    feature_extractor = feature_extractor.to(device)\n",
    "    \n",
    "    feature_extractor.eval() \n",
    "    print(model_name)\n",
    "\n",
    "\n",
    "    \n",
    "    feature_stack = []\n",
    "    label_stack = []\n",
    "\n",
    "    for i in range(result_images.shape[0]):\n",
    "        \n",
    "        images = result_images[i].to(device)\n",
    "        with torch.no_grad():\n",
    "            # for img in images:\n",
    "            features = feature_extractor(images).squeeze()\n",
    "            feature_stack.append(features)\n",
    "            label_stack.append(result_labels[i])\n",
    "            \n",
    "        \n",
    "    feature_list = torch.cat(feature_stack, dim=0)\n",
    "    label_list = torch.cat(label_stack, dim=0)\n",
    "    print('feature_list.shape: ', feature_list.shape)\n",
    "    print('label_list.shape: ', label_list.shape)\n",
    "    tsne_features = get_tsne_features(feature_list.cpu().numpy())\n",
    "    \n",
    "    # plot tsne and save image\n",
    "    fig = plt.figure(figsize=(10, 10))\n",
    "    plt.scatter(tsne_features[:, 0], tsne_features[:, 1], c=label_list, cmap='tab10')\n",
    "    plt.colorbar()\n",
    "    plt.title('t-SNE features -' + model_name)\n",
    "    # plt.show()\n",
    "    plt.savefig(material_dir+ model_name+'tsne.png')\n",
    "    plt.close()"
   ]
  },
  {
   "cell_type": "code",
   "execution_count": null,
   "metadata": {},
   "outputs": [],
   "source": []
  }
 ],
 "metadata": {
  "kernelspec": {
   "display_name": "tian",
   "language": "python",
   "name": "python3"
  },
  "language_info": {
   "codemirror_mode": {
    "name": "ipython",
    "version": 3
   },
   "file_extension": ".py",
   "mimetype": "text/x-python",
   "name": "python",
   "nbconvert_exporter": "python",
   "pygments_lexer": "ipython3",
   "version": "3.10.10"
  },
  "orig_nbformat": 4
 },
 "nbformat": 4,
 "nbformat_minor": 2
}
