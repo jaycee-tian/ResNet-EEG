{
 "cells": [
  {
   "cell_type": "code",
   "execution_count": 1,
   "metadata": {},
   "outputs": [],
   "source": [
    "# load model\n",
    "import setpath\n",
    "import torch\n",
    "from run.resnet import TesNet\n",
    "from run.start import get_device\n",
    "load_path = '/data0/tianjunchao/code/Tian-EEG-Image/4.materials/model/0417/2233/resnet18_407/model.pth'"
   ]
  },
  {
   "cell_type": "code",
   "execution_count": 2,
   "metadata": {},
   "outputs": [
    {
     "name": "stdout",
     "output_type": "stream",
     "text": [
      "load pretrained model from /data0/tianjunchao/code/Tian-EEG-Image/4.materials/model/0417/2233/resnet18_407/model.pth\n",
      "[38, 0, 0, 2, 0, 0, 0, 0]\n",
      "device: cuda:1\n"
     ]
    }
   ],
   "source": [
    "model = TesNet(num_classes=40, model_name='resnet18')\n",
    "model.load(load_path)\n",
    "device = get_device()"
   ]
  },
  {
   "cell_type": "code",
   "execution_count": 3,
   "metadata": {},
   "outputs": [],
   "source": [
    "model = model.to(device)"
   ]
  },
  {
   "cell_type": "code",
   "execution_count": null,
   "metadata": {},
   "outputs": [],
   "source": []
  }
 ],
 "metadata": {
  "kernelspec": {
   "display_name": "tian",
   "language": "python",
   "name": "python3"
  },
  "language_info": {
   "codemirror_mode": {
    "name": "ipython",
    "version": 3
   },
   "file_extension": ".py",
   "mimetype": "text/x-python",
   "name": "python",
   "nbconvert_exporter": "python",
   "pygments_lexer": "ipython3",
   "version": "3.10.10"
  },
  "orig_nbformat": 4
 },
 "nbformat": 4,
 "nbformat_minor": 2
}
